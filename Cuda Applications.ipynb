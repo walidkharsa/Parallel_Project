{
  "nbformat": 4,
  "nbformat_minor": 0,
  "metadata": {
    "colab": {
      "provenance": []
    },
    "kernelspec": {
      "name": "python3",
      "display_name": "Python 3"
    },
    "language_info": {
      "name": "python"
    },
    "accelerator": "GPU",
    "gpuClass": "standard"
  },
  "cells": [
    {
      "cell_type": "code",
      "execution_count": 1,
      "metadata": {
        "colab": {
          "base_uri": "https://localhost:8080/"
        },
        "id": "eypBajtXySqQ",
        "outputId": "c0dfcbbe-21cd-4e9b-e6dc-5e639be334be"
      },
      "outputs": [
        {
          "output_type": "stream",
          "name": "stdout",
          "text": [
            "nvcc: NVIDIA (R) Cuda compiler driver\n",
            "Copyright (c) 2005-2022 NVIDIA Corporation\n",
            "Built on Wed_Sep_21_10:33:58_PDT_2022\n",
            "Cuda compilation tools, release 11.8, V11.8.89\n",
            "Build cuda_11.8.r11.8/compiler.31833905_0\n"
          ]
        }
      ],
      "source": [
        "!nvcc --version"
      ]
    },
    {
      "cell_type": "code",
      "source": [
        "!pip install git+https://github.com/andreinechaev/nvcc4jupyter.git"
      ],
      "metadata": {
        "colab": {
          "base_uri": "https://localhost:8080/"
        },
        "id": "vFJ-oKJf1cs3",
        "outputId": "f423b2a0-b959-49a1-aba4-19d079d59b97"
      },
      "execution_count": 2,
      "outputs": [
        {
          "output_type": "stream",
          "name": "stdout",
          "text": [
            "Looking in indexes: https://pypi.org/simple, https://us-python.pkg.dev/colab-wheels/public/simple/\n",
            "Collecting git+https://github.com/andreinechaev/nvcc4jupyter.git\n",
            "  Cloning https://github.com/andreinechaev/nvcc4jupyter.git to /tmp/pip-req-build-cma_u5d5\n",
            "  Running command git clone --filter=blob:none --quiet https://github.com/andreinechaev/nvcc4jupyter.git /tmp/pip-req-build-cma_u5d5\n",
            "  Resolved https://github.com/andreinechaev/nvcc4jupyter.git to commit aac710a35f52bb78ab34d2e52517237941399eff\n",
            "  Preparing metadata (setup.py) ... \u001b[?25l\u001b[?25hdone\n",
            "Building wheels for collected packages: NVCCPlugin\n",
            "  Building wheel for NVCCPlugin (setup.py) ... \u001b[?25l\u001b[?25hdone\n",
            "  Created wheel for NVCCPlugin: filename=NVCCPlugin-0.0.2-py3-none-any.whl size=4305 sha256=d8d199a7fefbe75e9acb54a5982460d2d60ec2048b66359c9fc14d6dd3671c1c\n",
            "  Stored in directory: /tmp/pip-ephem-wheel-cache-60pka5qf/wheels/a8/b9/18/23f8ef71ceb0f63297dd1903aedd067e6243a68ea756d6feea\n",
            "Successfully built NVCCPlugin\n",
            "Installing collected packages: NVCCPlugin\n",
            "Successfully installed NVCCPlugin-0.0.2\n"
          ]
        }
      ]
    },
    {
      "cell_type": "code",
      "source": [
        "%load_ext nvcc_plugin"
      ],
      "metadata": {
        "colab": {
          "base_uri": "https://localhost:8080/"
        },
        "id": "c38BqlXH1hdG",
        "outputId": "466dca3a-f5a2-4165-addb-b4d6ad2fae48"
      },
      "execution_count": 3,
      "outputs": [
        {
          "output_type": "stream",
          "name": "stdout",
          "text": [
            "created output directory at /content/src\n",
            "Out bin /content/result.out\n"
          ]
        }
      ]
    },
    {
      "cell_type": "code",
      "source": [
        "%%cu\n",
        "#include <stdio.h>\n",
        "#include <stdlib.h>\n",
        "#include <limits.h>\n",
        "#include <time.h>\n",
        "\n",
        "#define V 5\n",
        "#define BLOCK_SIZE 32\n",
        "\n",
        "__global__ void dijkstra_kernel(int *graph, int *dist, int *sptSet, int *min_index)\n",
        "{\n",
        "    int tid = blockIdx.x * blockDim.x + threadIdx.x;\n",
        "\n",
        "    if (tid < V) {\n",
        "        if (sptSet[tid] == 0 && dist[tid] < dist[*min_index])\n",
        "            *min_index = tid;\n",
        "    }\n",
        "\n",
        "    __syncthreads();\n",
        "\n",
        "    int u = *min_index;\n",
        "\n",
        "    sptSet[u] = 1;\n",
        "\n",
        "    for (int v = 0; v < V; v++)\n",
        "        if (!sptSet[v] && graph[u * V + v] && dist[u] != INT_MAX\n",
        "            && dist[u] + graph[u * V + v] < dist[v])\n",
        "            dist[v] = dist[u] + graph[u * V + v];\n",
        "}\n",
        "\n",
        "void dijkstra(int *graph, int src)\n",
        "{\n",
        "    int *dist, *sptSet, *min_index;\n",
        "    int *d_graph, *d_dist, *d_sptSet, *d_min_index;\n",
        "\n",
        "    dist = (int*)malloc(V * sizeof(int));\n",
        "    sptSet = (int*)malloc(V * sizeof(int));\n",
        "    min_index = (int*)malloc(sizeof(int));\n",
        "\n",
        "    for (int i = 0; i < V; i++)\n",
        "        dist[i] = INT_MAX, sptSet[i] = 0;\n",
        "\n",
        "    dist[src] = 0;\n",
        "\n",
        "    cudaMalloc(&d_graph, V * V * sizeof(int));\n",
        "    cudaMalloc(&d_dist, V * sizeof(int));\n",
        "    cudaMalloc(&d_sptSet, V * sizeof(int));\n",
        "    cudaMalloc(&d_min_index, sizeof(int));\n",
        "\n",
        "    cudaMemcpy(d_graph, graph, V * V * sizeof(int), cudaMemcpyHostToDevice);\n",
        "    cudaMemcpy(d_dist, dist, V * sizeof(int), cudaMemcpyHostToDevice);\n",
        "    cudaMemcpy(d_sptSet, sptSet, V * sizeof(int), cudaMemcpyHostToDevice);\n",
        "    cudaMemcpy(d_min_index, min_index, sizeof(int), cudaMemcpyHostToDevice);\n",
        "\n",
        "    clock_t start_time = clock();\n",
        "\n",
        "    for (int count = 0; count < V - 1; count++) {\n",
        "        *min_index = INT_MAX;\n",
        "\n",
        "        dijkstra_kernel<<<(V + BLOCK_SIZE - 1) / BLOCK_SIZE, BLOCK_SIZE>>>(d_graph, d_dist, d_sptSet, d_min_index);\n",
        "\n",
        "        cudaMemcpy(min_index, d_min_index, sizeof(int), cudaMemcpyDeviceToHost);\n",
        "    }\n",
        "\n",
        "    clock_t end_time = clock();\n",
        "\n",
        "    double time_taken = ((double)(end_time - start_time)) / CLOCKS_PER_SEC;\n",
        "\n",
        "    cudaMemcpy(dist, d_dist, V * sizeof(int), cudaMemcpyDeviceToHost);\n",
        "\n",
        "    printf(\"Vertex \\t Distance from Source\\n\");\n",
        "    for (int i = 0; i < V; i++)\n",
        "        printf(\"%d \\t %d\\n\", i, dist[i]);\n",
        "\n",
        "    printf(\"Time taken: %lf seconds\\n\", time_taken);\n",
        "\n",
        "    free(dist);\n",
        "    free(sptSet);\n",
        "    free(min_index);\n",
        "    cudaFree(d_graph);\n",
        "    cudaFree(d_dist);\n",
        "    cudaFree(d_sptSet);\n",
        "    cudaFree(d_min_index);\n",
        "}\n",
        "int main()\n",
        "{\n",
        "int graph[V][V] = {{0, 10, 20, 0, 0},\n",
        "{10, 0, 5, 15, 0},\n",
        "{20, 5, 0, 20, 30},\n",
        "{0, 15, 20, 0, 35},\n",
        "{0, 0, 30, 35, 0}};\n",
        " dijkstra((int*)graph, 0);\n",
        "\n",
        "return 0;\n",
        " }"
      ],
      "metadata": {
        "colab": {
          "base_uri": "https://localhost:8080/"
        },
        "id": "MJw0103q1jp_",
        "outputId": "fd3c45aa-af71-4126-979f-ffd898f577a7"
      },
      "execution_count": 5,
      "outputs": [
        {
          "output_type": "stream",
          "name": "stdout",
          "text": [
            "Vertex \t Distance from Source\n",
            "0 \t 0\n",
            "1 \t 10\n",
            "2 \t 20\n",
            "3 \t 2147483647\n",
            "4 \t 2147483647\n",
            "Time taken: 0.000105 seconds\n",
            "\n"
          ]
        }
      ]
    },
    {
      "cell_type": "code",
      "source": [
        "%%cu\n",
        "int main() {\n",
        "    cudaFileHandle_t input_file, output_file;\n",
        "    char ch;\n",
        "    clock_t start_time = clock();\n",
        "\n",
        "    // Open the input file in read mode\n",
        "    if (cuFileOpen(&input_file, \"Cars.txt\", CU_FILE_READ) != CUDA_SUCCESS) {\n",
        "        printf(\"Error opening input file.\\n\");\n",
        "        return 1;\n",
        "    }\n",
        "\n",
        "    // Open the output file in write mode\n",
        "    if (cuFileOpen(&output_file, \"output.txt\", CU_FILE_WRITE) != CUDA_SUCCESS) {\n",
        "        printf(\"Error opening output file.\\n\");\n",
        "        return 1;\n",
        "    }\n",
        "\n",
        "    // Measure the start time\n",
        "   \n",
        "\n",
        "    // Read from the input file character by character and write to the output file\n",
        "    while ((cuFileRead(&ch, sizeof(char), 1, input_file)) == 1) {\n",
        "        cuFileWrite(&ch, sizeof(char), 1, output_file);\n",
        "    }\n",
        "\n",
        "    // Measure the end time\n",
        "   \n",
        "\n",
        "    // Close the files\n",
        "    cuFileClose(input_file);\n",
        "    cuFileClose(output_file);\n",
        "    clock_t end_time = clock();\n",
        "\n",
        "    // Calculate the time taken\n",
        "    double time_taken = (double)(end_time - start_time) / CLOCKS_PER_SEC;\n",
        "\n",
        "    printf(\"File copied successfully in %lf seconds.\\n\", time_taken);\n",
        "\n",
        "    return 0;\n",
        "}"
      ],
      "metadata": {
        "colab": {
          "base_uri": "https://localhost:8080/"
        },
        "id": "H50FoaAq5rFv",
        "outputId": "59c4c90b-da4b-42c9-c136-cb3e3299a5d4"
      },
      "execution_count": 8,
      "outputs": [
        {
          "output_type": "stream",
          "name": "stdout",
          "text": [
            "/tmp/tmpcxhi9n6i/f7449a62-dd32-4df9-8878-4bcbec4483fd.cu(2): error: identifier \"cudaFileHandle_t\" is undefined\n",
            "\n",
            "/tmp/tmpcxhi9n6i/f7449a62-dd32-4df9-8878-4bcbec4483fd.cu(7): error: identifier \"CU_FILE_READ\" is undefined\n",
            "\n",
            "/tmp/tmpcxhi9n6i/f7449a62-dd32-4df9-8878-4bcbec4483fd.cu(7): error: identifier \"cuFileOpen\" is undefined\n",
            "\n",
            "/tmp/tmpcxhi9n6i/f7449a62-dd32-4df9-8878-4bcbec4483fd.cu(7): error: identifier \"CUDA_SUCCESS\" is undefined\n",
            "\n",
            "/tmp/tmpcxhi9n6i/f7449a62-dd32-4df9-8878-4bcbec4483fd.cu(13): error: identifier \"CU_FILE_WRITE\" is undefined\n",
            "\n",
            "/tmp/tmpcxhi9n6i/f7449a62-dd32-4df9-8878-4bcbec4483fd.cu(22): error: identifier \"cuFileRead\" is undefined\n",
            "\n",
            "/tmp/tmpcxhi9n6i/f7449a62-dd32-4df9-8878-4bcbec4483fd.cu(23): error: identifier \"cuFileWrite\" is undefined\n",
            "\n",
            "/tmp/tmpcxhi9n6i/f7449a62-dd32-4df9-8878-4bcbec4483fd.cu(30): error: identifier \"cuFileClose\" is undefined\n",
            "\n",
            "8 errors detected in the compilation of \"/tmp/tmpcxhi9n6i/f7449a62-dd32-4df9-8878-4bcbec4483fd.cu\".\n",
            "\n"
          ]
        }
      ]
    }
  ]
}